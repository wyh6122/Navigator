{
 "cells": [
  {
   "cell_type": "code",
   "execution_count": null,
   "metadata": {
    "vscode": {
     "languageId": "plaintext"
    }
   },
   "outputs": [],
   "source": [
    "%pip install evaluate"
   ]
  },
  {
   "cell_type": "code",
   "execution_count": null,
   "metadata": {
    "vscode": {
     "languageId": "plaintext"
    }
   },
   "outputs": [],
   "source": [
    "%pip install bert_score"
   ]
  },
  {
   "cell_type": "code",
   "execution_count": null,
   "metadata": {
    "vscode": {
     "languageId": "plaintext"
    }
   },
   "outputs": [],
   "source": [
    "from evaluate import load\n",
    "import csv\n",
    "\n",
    "input_file = 'F:.\\output_ranking.csv'\n",
    "output_file = 'F:.\\output_bert_score.csv'\n",
    "\n",
    "bertscore = load(\"bertscore\")\n",
    "\n",
    "# 累加变量\n",
    "total_output1 = {\"precision\": 0, \"recall\": 0, \"f1\": 0}\n",
    "total_output2 = {\"precision\": 0, \"recall\": 0, \"f1\": 0}\n",
    "total_output3 = {\"precision\": 0, \"recall\": 0, \"f1\": 0}\n",
    "total_output4 = {\"precision\": 0, \"recall\": 0, \"f1\": 0}\n",
    "total_output5 = {\"precision\": 0, \"recall\": 0, \"f1\": 0}\n",
    "total_output6 = {\"precision\": 0, \"recall\": 0, \"f1\": 0}\n",
    "total_output7 = {\"precision\": 0, \"recall\": 0, \"f1\": 0}\n",
    "\n",
    "\n",
    "total_rows = 0\n",
    "\n",
    "with open(input_file, 'r', newline=\"\") as f_input, open(output_file, 'a+', newline='') as f_output:\n",
    "    reader = csv.reader(f_input)\n",
    "    writer = csv.writer(f_output)\n",
    "\n",
    "    header = next(reader)\n",
    "    header.extend([\"output1_precision\", \"output1_recall\", \"output1_f1\", \n",
    "                   \"output2_precision\", \"output2_recall\", \"output2_f1\",\n",
    "                   \"output3_precision\", \"output3_recall\", \"output3_f1\", \n",
    "                   \"output4_precision\", \"output4_recall\", \"output4_f1\",\n",
    "                   \"output5_precision\", \"output5_recall\", \"output5_f1\",\n",
    "                   \"output6_precision\", \"output6_recall\", \"output6_f1\",\n",
    "                   \"output7_precision\", \"output7_recall\", \"output7_f1\"])\n",
    "    writer.writerow(header)\n",
    "\n",
    "    for row in reader:\n",
    "        total_rows += 1\n",
    "\n",
    "        output1_text = [row[2].strip(\"\\n\")]\n",
    "        output2_text = [row[3].strip(\"\\n\")]\n",
    "        output3_text = [row[4].strip(\"\\n\")]\n",
    "        output4_text = [row[5].strip(\"\\n\")]\n",
    "        output5_text = [row[6].strip(\"\\n\")]\n",
    "        output6_text = [row[7].strip(\"\\n\")]\n",
    "        output7_text = [row[8].strip(\"\\n\")]\n",
    "        references = [row[1].strip(\"\\n\")]\n",
    "\n",
    "        # 计算每个输出的BERTScore分数\n",
    "        results1 = bertscore.compute(predictions=output1_text, references=references, model_type=\"distilbert-base-uncased\")\n",
    "        results2 = bertscore.compute(predictions=output2_text, references=references, model_type=\"distilbert-base-uncased\")\n",
    "        results3 = bertscore.compute(predictions=output3_text, references=references, model_type=\"distilbert-base-uncased\")\n",
    "        results4 = bertscore.compute(predictions=output4_text, references=references, model_type=\"distilbert-base-uncased\")\n",
    "        results5 = bertscore.compute(predictions=output5_text, references=references, model_type=\"distilbert-base-uncased\")\n",
    "        results6 = bertscore.compute(predictions=output6_text, references=references, model_type=\"distilbert-base-uncased\")\n",
    "        results7 = bertscore.compute(predictions=output7_text, references=references, model_type=\"distilbert-base-uncased\")\n",
    "\n",
    "        # 将结果累加\n",
    "        total_output1[\"precision\"] += results1[\"precision\"][0]\n",
    "        total_output1[\"recall\"] += results1[\"recall\"][0]\n",
    "        total_output1[\"f1\"] += results1[\"f1\"][0]\n",
    "\n",
    "        total_output2[\"precision\"] += results2[\"precision\"][0]\n",
    "        total_output2[\"recall\"] += results2[\"recall\"][0]\n",
    "        total_output2[\"f1\"] += results2[\"f1\"][0]\n",
    "\n",
    "        total_output3[\"precision\"] += results3[\"precision\"][0]\n",
    "        total_output3[\"recall\"] += results3[\"recall\"][0]\n",
    "        total_output3[\"f1\"] += results3[\"f1\"][0]\n",
    "\n",
    "        total_output4[\"precision\"] += results4[\"precision\"][0]\n",
    "        total_output4[\"recall\"] += results4[\"recall\"][0]\n",
    "        total_output4[\"f1\"] += results4[\"f1\"][0]\n",
    "\n",
    "        total_output5[\"precision\"] += results5[\"precision\"][0]\n",
    "        total_output5[\"recall\"] += results5[\"recall\"][0]\n",
    "        total_output5[\"f1\"] += results5[\"f1\"][0]\n",
    "\n",
    "        total_output6[\"precision\"] += results6[\"precision\"][0]\n",
    "        total_output6[\"recall\"] += results6[\"recall\"][0]\n",
    "        total_output6[\"f1\"] += results6[\"f1\"][0]\n",
    "\n",
    "        total_output7[\"precision\"] += results7[\"precision\"][0]\n",
    "        total_output7[\"recall\"] += results7[\"recall\"][0]\n",
    "        total_output7[\"f1\"] += results7[\"f1\"][0]\n",
    "\n",
    "        # 将每个输出的分数写入当前行\n",
    "        row.extend([results1[\"precision\"][0], results1[\"recall\"][0], results1[\"f1\"][0],\n",
    "                    results2[\"precision\"][0], results2[\"recall\"][0], results2[\"f1\"][0],\n",
    "                    results3[\"precision\"][0], results3[\"recall\"][0], results3[\"f1\"][0],\n",
    "                    results4[\"precision\"][0], results4[\"recall\"][0], results4[\"f1\"][0],\n",
    "                    results5[\"precision\"][0], results5[\"recall\"][0], results5[\"f1\"][0],\n",
    "                    results6[\"precision\"][0], results6[\"recall\"][0], results6[\"f1\"][0],\n",
    "                    results7[\"precision\"][0], results7[\"recall\"][0], results7[\"f1\"][0],])\n",
    "        writer.writerow(row)\n",
    "\n",
    "# 计算平均分数\n",
    "avg_output1 = {key: total_output1[key] / total_rows for key in total_output1}\n",
    "avg_output2 = {key: total_output2[key] / total_rows for key in total_output2}\n",
    "avg_output3 = {key: total_output3[key] / total_rows for key in total_output3}\n",
    "avg_output4 = {key: total_output4[key] / total_rows for key in total_output4}\n",
    "avg_output5 = {key: total_output5[key] / total_rows for key in total_output5}\n",
    "avg_output6 = {key: total_output6[key] / total_rows for key in total_output6}\n",
    "avg_output7 = {key: total_output7[key] / total_rows for key in total_output7}\n",
    "\n",
    "# 输出平均结果\n",
    "print(f\"Output1 Average: Precision: {avg_output1['precision']}, Recall: {avg_output1['recall']}, F1: {avg_output1['f1']}\")\n",
    "print(f\"Output2 Average: Precision: {avg_output2['precision']}, Recall: {avg_output2['recall']}, F1: {avg_output2['f1']}\")\n",
    "print(f\"Output3 Average: Precision: {avg_output3['precision']}, Recall: {avg_output3['recall']}, F1: {avg_output3['f1']}\")\n",
    "print(f\"Output4 Average: Precision: {avg_output4['precision']}, Recall: {avg_output4['recall']}, F1: {avg_output4['f1']}\")\n",
    "print(f\"Output5 Average: Precision: {avg_output5['precision']}, Recall: {avg_output5['recall']}, F1: {avg_output5['f1']}\")\n",
    "print(f\"Output6 Average: Precision: {avg_output6['precision']}, Recall: {avg_output6['recall']}, F1: {avg_output6['f1']}\")\n",
    "print(f\"Output7 Average: Precision: {avg_output7['precision']}, Recall: {avg_output7['recall']}, F1: {avg_output7['f1']}\")\n",
    "\n"
   ]
  }
 ],
 "metadata": {
  "language_info": {
   "name": "python"
  }
 },
 "nbformat": 4,
 "nbformat_minor": 2
}
